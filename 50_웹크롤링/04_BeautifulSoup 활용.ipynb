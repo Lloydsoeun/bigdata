{
 "cells": [
  {
   "cell_type": "markdown",
   "metadata": {},
   "source": [
    "# 4. BrautifulSoup 활용\n",
    "* 멜론사이트 크롤링하기\n",
    "* 제목, 가수, 앨범, 좋아요수 추출"
   ]
  },
  {
   "cell_type": "code",
   "execution_count": 1,
   "metadata": {},
   "outputs": [],
   "source": [
    "import requests\n",
    "from bs4 import BeautifulSoup\n",
    "import pandas as pd"
   ]
  },
  {
   "cell_type": "code",
   "execution_count": 2,
   "metadata": {},
   "outputs": [
    {
     "data": {
      "text/plain": [
       "<Response [200]>"
      ]
     },
     "execution_count": 2,
     "metadata": {},
     "output_type": "execute_result"
    }
   ],
   "source": [
    "url = 'https://www.melon.com/chart/index.htm'\n",
    "\n",
    "headers = {\n",
    "    'user-agent': 'Mozilla/5.0 (Windows NT 10.0; Win64; x64) AppleWebKit/537.36 (KHTML, like Gecko) Chrome/92.0.4515.159 Safari/537.36'\n",
    "}\n",
    "\n",
    "res = requests.get(url, headers=headers)\n",
    "res"
   ]
  },
  {
   "cell_type": "code",
   "execution_count": 3,
   "metadata": {},
   "outputs": [
    {
     "data": {
      "text/plain": [
       "'<!DOCTYPE html>\\r\\n<html lang=\"ko\">\\r\\n\\r\\n\\r\\n\\r\\n\\r\\n\\r\\n\\r\\n\\r\\n\\r\\n\\r\\n\\r\\n\\r\\n\\r\\n\\r\\n<head>\\r\\n\\t\\t\\r\\n\\t\\r\\n\\t\\r\\n\\t\\r\\n\\t\\r\\n\\t\\r\\n\\t\\r\\n\\t\\r\\n\\r\\n\\t<meta http-equiv=\"Content-Type\" content=\"text/html; charset=utf-8\"/>\\r\\n\\t<meta http-equiv=\"X-UA-Compatible\" content=\"IE=edge,chrome=1\" />\\r\\n\\t\\r\\n\\r\\n\\t\\r\\n\\r\\n\\t\\r\\n\\r\\n\\t<title>멜론차트>TOP100>멜론</title>\\r\\n\\t<meta name=\"keywor'"
      ]
     },
     "execution_count": 3,
     "metadata": {},
     "output_type": "execute_result"
    }
   ],
   "source": [
    "res.text[:300]"
   ]
  },
  {
   "cell_type": "code",
   "execution_count": 4,
   "metadata": {},
   "outputs": [],
   "source": [
    "soup = BeautifulSoup(res.text)"
   ]
  },
  {
   "cell_type": "markdown",
   "metadata": {},
   "source": [
    "### 노래제목 추출"
   ]
  },
  {
   "cell_type": "code",
   "execution_count": 5,
   "metadata": {},
   "outputs": [
    {
     "data": {
      "text/plain": [
       "['신호등',\n",
       " 'STAY',\n",
       " '바라만 본다',\n",
       " 'Next Level',\n",
       " 'Queendom',\n",
       " '낙하 (with 아이유)',\n",
       " 'Permission to Dance',\n",
       " 'Weekend',\n",
       " 'DUMB DUMB',\n",
       " 'OHAYO MY NIGHT']"
      ]
     },
     "execution_count": 5,
     "metadata": {},
     "output_type": "execute_result"
    }
   ],
   "source": [
    "songs = soup.select('.ellipsis.rank01')\n",
    "title = []\n",
    "\n",
    "for song in songs:\n",
    "    title.append(song.find('a').get_text())\n",
    "title[:10]"
   ]
  },
  {
   "cell_type": "markdown",
   "metadata": {},
   "source": [
    "### 가수명 추출"
   ]
  },
  {
   "cell_type": "code",
   "execution_count": 6,
   "metadata": {},
   "outputs": [
    {
     "data": {
      "text/plain": [
       "['이무진',\n",
       " 'The Kid LAROI',\n",
       " 'MSG워너비(M.O.M)',\n",
       " 'aespa',\n",
       " 'Red Velvet (레드벨벳)',\n",
       " 'AKMU (악뮤)',\n",
       " '방탄소년단',\n",
       " '태연 (TAEYEON)',\n",
       " '전소미',\n",
       " '디핵 (D-Hack)']"
      ]
     },
     "execution_count": 6,
     "metadata": {},
     "output_type": "execute_result"
    }
   ],
   "source": [
    "songs = soup.select('.ellipsis.rank02')\n",
    "singer = []\n",
    "\n",
    "for song in songs:\n",
    "    singer.append(song.find('a').get_text())\n",
    "singer[:10]"
   ]
  },
  {
   "cell_type": "markdown",
   "metadata": {},
   "source": [
    "### 앨범명 추출"
   ]
  },
  {
   "cell_type": "code",
   "execution_count": 7,
   "metadata": {},
   "outputs": [
    {
     "data": {
      "text/plain": [
       "['신호등',\n",
       " 'Stay',\n",
       " 'MSG워너비 1집',\n",
       " 'Next Level',\n",
       " 'Queendom - The 6th Mini Album',\n",
       " 'NEXT EPISODE',\n",
       " 'Butter / Permission to Dance',\n",
       " 'Weekend',\n",
       " 'DUMB DUMB',\n",
       " 'OHAYO MY NIGHT']"
      ]
     },
     "execution_count": 7,
     "metadata": {},
     "output_type": "execute_result"
    }
   ],
   "source": [
    "songs = soup.select('.ellipsis.rank03')\n",
    "album = []\n",
    "\n",
    "for song in songs:\n",
    "    album.append(song.find('a').get_text())\n",
    "album[:10]"
   ]
  },
  {
   "cell_type": "markdown",
   "metadata": {},
   "source": [
    "### 좋아요 수 추출"
   ]
  },
  {
   "cell_type": "code",
   "execution_count": 10,
   "metadata": {},
   "outputs": [
    {
     "data": {
      "text/plain": [
       "'33480898,33658563,33625988,33487342,33805289,33725775,33666269,33655994,33749109,32698101,33507137,33691794,33503722,33868791,33359317,33623210,32872978,33589488,33464805,32508053,33759183,30287019,33372781,33496587,33239419,33618271,33589260,33559180,33800786,33527705,33337651,33397561,33036660,33359725,33618864,33652821,32962258,33514925,32860397,33625989,31737197,33630420,33599821,3414749,33167063,33606505,8130796,33858616,30244931,1944399,33855085,33315511,33871930,33359309,33077234,33061995,33872789,33742378,33632153,8302665,32961718,33772329,32061975,31254010,33728859,33825315,33248758,32491274,33372788,33510307,33716984,32183386,33013877,33812065,32578498,33107649,32794652,33408084,33699116,32559782,30962526,31029291,33867016,33331004,33871968,32003395,33692354,33601086,32224272,31509376,1854856,3894276,32224166,33011180,33077590,31853557,32438894,32525311,33372783,32055419'"
      ]
     },
     "execution_count": 10,
     "metadata": {},
     "output_type": "execute_result"
    }
   ],
   "source": [
    "songs = soup.select('.button_etc.like')\n",
    "params = ''\n",
    "\n",
    "for song in songs:\n",
    "    params += song['data-song-no'] + ','\n",
    "params[:-1]"
   ]
  },
  {
   "cell_type": "code",
   "execution_count": 15,
   "metadata": {},
   "outputs": [
    {
     "data": {
      "text/plain": [
       "<Response [200]>"
      ]
     },
     "execution_count": 15,
     "metadata": {},
     "output_type": "execute_result"
    }
   ],
   "source": [
    "url2 = 'https://www.melon.com/commonlike/getSongLike.json?contsIds=' + params[:-1]\n",
    "\n",
    "res = requests.get(url2, headers=headers)\n",
    "res"
   ]
  },
  {
   "cell_type": "code",
   "execution_count": 23,
   "metadata": {},
   "outputs": [
    {
     "data": {
      "text/plain": [
       "[190933,\n",
       " 93120,\n",
       " 148189,\n",
       " 195405,\n",
       " 73719,\n",
       " 104891,\n",
       " 165211,\n",
       " 123012,\n",
       " 53997,\n",
       " 108556,\n",
       " 238984,\n",
       " 59382,\n",
       " 145661,\n",
       " 10448,\n",
       " 193048,\n",
       " 54565,\n",
       " 421657,\n",
       " 78469,\n",
       " 139371,\n",
       " 134296,\n",
       " 36489,\n",
       " 287018,\n",
       " 213194,\n",
       " 42150,\n",
       " 297275,\n",
       " 43334,\n",
       " 91285,\n",
       " 73054,\n",
       " 38302,\n",
       " 105526,\n",
       " 60652,\n",
       " 121109,\n",
       " 61082,\n",
       " 106920,\n",
       " 37240,\n",
       " 21977,\n",
       " 184156,\n",
       " 26670,\n",
       " 128542,\n",
       " 68348,\n",
       " 427947,\n",
       " 22527,\n",
       " 22849,\n",
       " 165907,\n",
       " 92422,\n",
       " 21461,\n",
       " 122171,\n",
       " 11494,\n",
       " 547250,\n",
       " 102026,\n",
       " 11421,\n",
       " 104835,\n",
       " 12911,\n",
       " 69849,\n",
       " 224949,\n",
       " 161943,\n",
       " 12509,\n",
       " 21162,\n",
       " 54864,\n",
       " 47952,\n",
       " 199649,\n",
       " 25244,\n",
       " 359121,\n",
       " 51341,\n",
       " 15928,\n",
       " 14787,\n",
       " 57337,\n",
       " 226060,\n",
       " 97496,\n",
       " 61720,\n",
       " 32712,\n",
       " 315997,\n",
       " 146431,\n",
       " 8959,\n",
       " 365601,\n",
       " 61773,\n",
       " 198567,\n",
       " 18683,\n",
       " 23091,\n",
       " 190291,\n",
       " 374126,\n",
       " 367398,\n",
       " 11193,\n",
       " 99942,\n",
       " 1965,\n",
       " 292143,\n",
       " 29763,\n",
       " 31526,\n",
       " 268756,\n",
       " 147516,\n",
       " 84404,\n",
       " 233548,\n",
       " 86027,\n",
       " 111350,\n",
       " 189216,\n",
       " 243704,\n",
       " 166283,\n",
       " 81048,\n",
       " 102172,\n",
       " 174859]"
      ]
     },
     "execution_count": 23,
     "metadata": {},
     "output_type": "execute_result"
    }
   ],
   "source": [
    "songs = res.json()['contsLike']\n",
    "like = []\n",
    "\n",
    "for song in songs:\n",
    "    like.append(song['SUMMCNT'])\n",
    "like"
   ]
  },
  {
   "cell_type": "code",
   "execution_count": 24,
   "metadata": {},
   "outputs": [
    {
     "data": {
      "text/plain": [
       "('신호등', '이무진', '신호등', 190933)"
      ]
     },
     "execution_count": 24,
     "metadata": {},
     "output_type": "execute_result"
    }
   ],
   "source": [
    "title[0], singer[0], album[0], like[0]"
   ]
  },
  {
   "cell_type": "code",
   "execution_count": 25,
   "metadata": {},
   "outputs": [
    {
     "data": {
      "text/html": [
       "<div>\n",
       "<style scoped>\n",
       "    .dataframe tbody tr th:only-of-type {\n",
       "        vertical-align: middle;\n",
       "    }\n",
       "\n",
       "    .dataframe tbody tr th {\n",
       "        vertical-align: top;\n",
       "    }\n",
       "\n",
       "    .dataframe thead th {\n",
       "        text-align: right;\n",
       "    }\n",
       "</style>\n",
       "<table border=\"1\" class=\"dataframe\">\n",
       "  <thead>\n",
       "    <tr style=\"text-align: right;\">\n",
       "      <th></th>\n",
       "      <th>title</th>\n",
       "      <th>singer</th>\n",
       "      <th>album</th>\n",
       "      <th>like</th>\n",
       "    </tr>\n",
       "  </thead>\n",
       "  <tbody>\n",
       "    <tr>\n",
       "      <th>0</th>\n",
       "      <td>신호등</td>\n",
       "      <td>이무진</td>\n",
       "      <td>신호등</td>\n",
       "      <td>190933</td>\n",
       "    </tr>\n",
       "    <tr>\n",
       "      <th>1</th>\n",
       "      <td>STAY</td>\n",
       "      <td>The Kid LAROI</td>\n",
       "      <td>Stay</td>\n",
       "      <td>93120</td>\n",
       "    </tr>\n",
       "    <tr>\n",
       "      <th>2</th>\n",
       "      <td>바라만 본다</td>\n",
       "      <td>MSG워너비(M.O.M)</td>\n",
       "      <td>MSG워너비 1집</td>\n",
       "      <td>148189</td>\n",
       "    </tr>\n",
       "    <tr>\n",
       "      <th>3</th>\n",
       "      <td>Next Level</td>\n",
       "      <td>aespa</td>\n",
       "      <td>Next Level</td>\n",
       "      <td>195405</td>\n",
       "    </tr>\n",
       "    <tr>\n",
       "      <th>4</th>\n",
       "      <td>Queendom</td>\n",
       "      <td>Red Velvet (레드벨벳)</td>\n",
       "      <td>Queendom - The 6th Mini Album</td>\n",
       "      <td>73719</td>\n",
       "    </tr>\n",
       "    <tr>\n",
       "      <th>...</th>\n",
       "      <td>...</td>\n",
       "      <td>...</td>\n",
       "      <td>...</td>\n",
       "      <td>...</td>\n",
       "    </tr>\n",
       "    <tr>\n",
       "      <th>95</th>\n",
       "      <td>오늘도 빛나는 너에게 (To You My Light) (Feat.이라온)</td>\n",
       "      <td>마크툽 (MAKTUB)</td>\n",
       "      <td>Red Moon : To You My Light</td>\n",
       "      <td>243704</td>\n",
       "    </tr>\n",
       "    <tr>\n",
       "      <th>96</th>\n",
       "      <td>어떻게 지내 (Prod. By VAN.C)</td>\n",
       "      <td>오반 (OVAN)</td>\n",
       "      <td>어떻게 지내</td>\n",
       "      <td>166283</td>\n",
       "    </tr>\n",
       "    <tr>\n",
       "      <th>97</th>\n",
       "      <td>사실 나는 (Feat.전건호)</td>\n",
       "      <td>경서예지</td>\n",
       "      <td>사실 나는</td>\n",
       "      <td>81048</td>\n",
       "    </tr>\n",
       "    <tr>\n",
       "      <th>98</th>\n",
       "      <td>Coin</td>\n",
       "      <td>아이유</td>\n",
       "      <td>IU 5th Album 'LILAC'</td>\n",
       "      <td>102172</td>\n",
       "    </tr>\n",
       "    <tr>\n",
       "      <th>99</th>\n",
       "      <td>Memories</td>\n",
       "      <td>Maroon 5</td>\n",
       "      <td>JORDI (Deluxe)</td>\n",
       "      <td>174859</td>\n",
       "    </tr>\n",
       "  </tbody>\n",
       "</table>\n",
       "<p>100 rows × 4 columns</p>\n",
       "</div>"
      ],
      "text/plain": [
       "                                       title             singer  \\\n",
       "0                                        신호등                이무진   \n",
       "1                                       STAY      The Kid LAROI   \n",
       "2                                     바라만 본다      MSG워너비(M.O.M)   \n",
       "3                                 Next Level              aespa   \n",
       "4                                   Queendom  Red Velvet (레드벨벳)   \n",
       "..                                       ...                ...   \n",
       "95  오늘도 빛나는 너에게 (To You My Light) (Feat.이라온)       마크툽 (MAKTUB)   \n",
       "96                   어떻게 지내 (Prod. By VAN.C)          오반 (OVAN)   \n",
       "97                          사실 나는 (Feat.전건호)               경서예지   \n",
       "98                                      Coin                아이유   \n",
       "99                                  Memories           Maroon 5   \n",
       "\n",
       "                            album    like  \n",
       "0                             신호등  190933  \n",
       "1                            Stay   93120  \n",
       "2                       MSG워너비 1집  148189  \n",
       "3                      Next Level  195405  \n",
       "4   Queendom - The 6th Mini Album   73719  \n",
       "..                            ...     ...  \n",
       "95     Red Moon : To You My Light  243704  \n",
       "96                         어떻게 지내  166283  \n",
       "97                          사실 나는   81048  \n",
       "98           IU 5th Album 'LILAC'  102172  \n",
       "99                 JORDI (Deluxe)  174859  \n",
       "\n",
       "[100 rows x 4 columns]"
      ]
     },
     "execution_count": 25,
     "metadata": {},
     "output_type": "execute_result"
    }
   ],
   "source": [
    "# 제목, 가수, 앨범, 좋아요 dataframe 생성\n",
    "df_data = {\n",
    "    'title': title,\n",
    "    'singer': singer,\n",
    "    'album': album,\n",
    "    'like': like\n",
    "}\n",
    "\n",
    "df = pd.DataFrame(data=df_data)\n",
    "df"
   ]
  },
  {
   "cell_type": "code",
   "execution_count": null,
   "metadata": {},
   "outputs": [],
   "source": []
  }
 ],
 "metadata": {
  "kernelspec": {
   "display_name": "Python 3",
   "language": "python",
   "name": "python3"
  },
  "language_info": {
   "codemirror_mode": {
    "name": "ipython",
    "version": 3
   },
   "file_extension": ".py",
   "mimetype": "text/x-python",
   "name": "python",
   "nbconvert_exporter": "python",
   "pygments_lexer": "ipython3",
   "version": "3.8.5"
  }
 },
 "nbformat": 4,
 "nbformat_minor": 4
}
